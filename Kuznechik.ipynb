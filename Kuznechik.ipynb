{
  "nbformat": 4,
  "nbformat_minor": 0,
  "metadata": {
    "colab": {
      "provenance": [],
      "toc_visible": true,
      "authorship_tag": "ABX9TyP3NPtoWbtDyoPfTq+U6ck3",
      "include_colab_link": true
    },
    "kernelspec": {
      "name": "python3",
      "display_name": "Python 3"
    },
    "language_info": {
      "name": "python"
    }
  },
  "cells": [
    {
      "cell_type": "markdown",
      "metadata": {
        "id": "view-in-github",
        "colab_type": "text"
      },
      "source": [
        "<a href=\"https://colab.research.google.com/github/MariaMaj59/cryptography/blob/main/Kuznechik.ipynb\" target=\"_parent\"><img src=\"https://colab.research.google.com/assets/colab-badge.svg\" alt=\"Open In Colab\"/></a>"
      ]
    },
    {
      "cell_type": "code",
      "source": [
        "# Таблица перестановки p'\n",
        "table = [ 252, 238, 221, 17, 207, 110, 49, 22, 251, 196, 250, 218, 35, 197, 4, 77, 233, 119, 240, 219, 147, \n",
        "          46, 153, 186, 23, 54, 241, 187, 20, 205, 95, 193, 249, 24, 101, 90, 226, 92, 239, 33, 129, 28, 60, 66, \n",
        "          139, 1, 142, 79, 5, 132, 2, 174, 227, 106, 143, 160, 6, 11,237, 152, 127, 212, 211,31,235, 52, 44, 81, \n",
        "          234, 200, 72, 171,242, 42, 104, 162, 253, 58, 206, 204, 181, 112, 14, 86, 8, 12, 118, 18, 191, 114, 19, \n",
        "          71, 156, 183, 93, 135, 21,161, 150, 41, 16, 123, 154, 199, 243, 145, 120, 111, 157, 158, 178, 177, 50, \n",
        "          117, 25, 61,255, 53, 138, 126, 109, 84, 198, 128, 195, 189, 13, 87, 223, 245, 36, 169, 62, 168, 67, \n",
        "          201,215, 121,214, 246, 124, 34, 185, 3, 224, 15, 236, 222, 122, 148, 176, 188, 220, 232, 40, 80, 78, \n",
        "          51, 10, 74, 167, 151, 96, 115, 30, 0, 98, 68, 26, 184, 56, 130, 100, 159, 38, 65, 173, 69, 70, 146, 39, \n",
        "          94, 85, 47, 140, 163, 165, 125, 105, 213, 149, 59, 7, 88, 179, 64, 134, 172, 29, 247, 48, 55, 107, 228, \n",
        "          136, 217, 231, 137, 225, 27, 131,73, 76, 63, 248, 254, 141,83, 170, 144, 202, 216, 133, 97, 32, 113, \n",
        "          103, 164, 45, 43, 9, 91,203, 155, 37, 208, 190, 229, 108, 82, 89, 166, 116, 210, 230, 244, 180, 192, \n",
        "          209, 102, 175, 194, 57, 75, 99, 182]\n",
        "dtable = [ 165, 45, 50, 143, 14, 48, 56, 192, 84, 230, 158, 57, 85, 126, 82, 145, 100, 3, 87, 90, 28, 96, 7,\n",
        "         24, 33, 114, 168, 209, 41, 198, 164, 63, 224, 39, 141, 12, 130, 234, 174, 180, 154, 99, 73, 229,\n",
        "         66, 228, 21, 183, 200, 6, 112, 157, 65, 117, 25, 201, 170, 252, 77, 191, 42, 115, 132, 213, 195,\n",
        "         175, 43, 134, 167, 177, 178, 91, 70, 211, 159, 253, 212, 15, 156, 47, 155, 67, 239, 217, 121, 182,\n",
        "         83, 127, 193, 240, 35, 231, 37, 94, 181, 30, 162, 223, 166, 254, 172, 34, 249, 226, 74, 188, 53,\n",
        "         202, 238, 120, 5, 107, 81, 225, 89, 163, 242, 113, 86, 17, 106, 137, 148, 101, 140, 187, 119, 60,\n",
        "         123, 40, 171, 210, 49, 222, 196, 95, 204, 207, 118, 44, 184, 216, 46, 54, 219, 105, 179, 20, 149,\n",
        "         190, 98, 161, 59, 22, 102, 233, 92, 108, 109, 173, 55, 97, 75, 185, 227, 186, 241, 160, 133, 131,\n",
        "         218, 71, 197, 176, 51, 250, 150, 111, 110, 194, 246, 80, 255, 93, 169, 142, 23, 27, 151, 125, 236,\n",
        "         88, 247, 31, 251, 124, 9, 13, 122, 103, 69, 135, 220, 232, 79, 29, 78, 4, 235, 248, 243, 62, 61,\n",
        "         189, 138, 136, 221, 205, 11, 19, 152, 2, 147, 128, 144, 208, 36, 52, 203, 237, 244, 206, 153, 16,\n",
        "         68, 64, 146, 58, 1, 38, 18, 26, 72, 104, 245, 129, 139, 199, 214, 32, 10, 8, 0, 76, 215, 116]"
      ],
      "metadata": {
        "id": "Vy-g0rRMdoYo"
      },
      "execution_count": null,
      "outputs": []
    },
    {
      "cell_type": "code",
      "source": [
        "print(dtable.index(0))"
      ],
      "metadata": {
        "colab": {
          "base_uri": "https://localhost:8080/"
        },
        "id": "r5HCvz59w1vA",
        "outputId": "f0496045-21bc-492d-ca9f-781d97bb19fa"
      },
      "execution_count": null,
      "outputs": [
        {
          "output_type": "stream",
          "name": "stdout",
          "text": [
            "252\n"
          ]
        }
      ]
    },
    {
      "cell_type": "code",
      "source": [
        "def S(text):\n",
        "  res = 0\n",
        "  for j in range(15,-1,-1):\n",
        "      # выделяем нужную 8и-битную часть \n",
        "      bit8 = text // 2**(8*j) % (2**8)\n",
        "      # заменяем её с помощью таблицы замены\n",
        "      res += table[bit8] << (j*8)\n",
        "  return res\n",
        "\n",
        "def dS(text):\n",
        "  res = 0\n",
        "  for j in range(15,-1,-1):\n",
        "      # выделяем нужную 8и-битную часть \n",
        "      bit8 = text // 2**(8*j) % (2**8)\n",
        "      # заменяем её с помощью таблицы замены\n",
        "      res += dtable[bit8] << (j*8)\n",
        "  return res"
      ],
      "metadata": {
        "id": "287Rm8qjdqvm"
      },
      "execution_count": null,
      "outputs": []
    },
    {
      "cell_type": "code",
      "source": [
        "def mul (a, b): # умножение в столбик с добавлением числа 0xс3\n",
        "    c = 0\n",
        "    hi_bit = 0\n",
        "    for i in range(8):\n",
        "        if (b & 1):\n",
        "            c = (c ^ a) % 2**8\n",
        "        hi_bit = (a & 0x80)\n",
        "        a = (a << 1) % 2**8\n",
        "        if (hi_bit):\n",
        "            a = (a ^ 0xc3)  % 2**8 # Полином x^8 + x^7 + x^6 + x + 1\n",
        "        b = ( b >> 1)  % 2**8\n",
        "    return c\n",
        " \n",
        "# Массив коэффицинтов\n",
        "l_vec = [ 1, 148, 32, 133, 16, 194, 192, 1,\n",
        "          251, 1, 192, 194, 16, 133, 32, 148]\n",
        "\n",
        "def R(text):\n",
        "  l = mul(text % (2**8), l_vec[0])\n",
        "  res = 0\n",
        "  for j in range(15,0,-1):\n",
        "      bit8 = text // 2**(8*j) % (2**8)\n",
        "      l ^= mul(bit8, l_vec[j])\n",
        "      res += bit8 << ((j-1)*8)\n",
        "  res += l << (15*8)\n",
        "  return res\n",
        "\n",
        "def dR(text):\n",
        "  l = text // (2**(15*8))\n",
        "  res = 0\n",
        "  for j in range(1, 16, 1):\n",
        "      bit8 = text // 2**(8*(j-1)) % (2**8)\n",
        "      l ^= mul(bit8, l_vec[j])\n",
        "      res += bit8 << (j*8)\n",
        "  res += l\n",
        "  return res"
      ],
      "metadata": {
        "id": "d7eYPAy-kbGW"
      },
      "execution_count": null,
      "outputs": []
    },
    {
      "cell_type": "code",
      "source": [
        "# ПРЕОБРАЗОВАНИЕ R\n",
        "arr = [\n",
        "    [0x00000000000000000000000000000100,  0x94000000000000000000000000000001],\n",
        "    [0x94000000000000000000000000000001,  0xa5940000000000000000000000000000],\n",
        "    [0xa5940000000000000000000000000000,  0x64a59400000000000000000000000000],\n",
        "    [0x64a59400000000000000000000000000,  0x0d64a594000000000000000000000000]\n",
        "]\n",
        "\n",
        "for i in range(4):\n",
        "  if(R(arr[i][0]) != arr[i][1]):\n",
        "    print('R - ошибка:\\nПолучено: ', hex(R(arr[i][0])), 'Ожидается:', hex(arr[i][1]))\n",
        "print('R - верно')\n",
        "\n",
        "for i in range(4):\n",
        "  if(arr[i][0] != dR(arr[i][1])):\n",
        "    print('R - ошибка:\\nПолучено: ', hex(dR(arr[i][1])), 'Ожидается:', hex(arr[i][0]))\n",
        "print('R - верно')"
      ],
      "metadata": {
        "colab": {
          "base_uri": "https://localhost:8080/"
        },
        "id": "dU_nSmMWlKYO",
        "outputId": "5def773c-e54c-4643-e310-6255b43b393b"
      },
      "execution_count": null,
      "outputs": [
        {
          "output_type": "stream",
          "name": "stdout",
          "text": [
            "R - верно\n",
            "R - верно\n"
          ]
        }
      ]
    },
    {
      "cell_type": "code",
      "source": [
        "def L(text):\n",
        "  for i in range(16):\n",
        "    text = R(text)\n",
        "  return text\n",
        "\n",
        "def dL(text):\n",
        "  for i in range(16):\n",
        "    text = dR(text)\n",
        "  return text"
      ],
      "metadata": {
        "id": "sq7k2YnyyJPX"
      },
      "execution_count": null,
      "outputs": []
    },
    {
      "cell_type": "code",
      "execution_count": null,
      "metadata": {
        "id": "wctiK7Ra3KgP"
      },
      "outputs": [],
      "source": [
        "# Развертывание ключа\n",
        "\n",
        "def K(Ki):\n",
        "  left = Ki // 2**128\n",
        "  right = Ki % 2**128\n",
        "\n",
        "  keys = []\n",
        "  for i in range(4):\n",
        "    keys.append(left)\n",
        "    keys.append(right)\n",
        "    for j in range(8):\n",
        "      c = L(((i)*8)+(j+1))\n",
        "      f = left ^ c\n",
        "      f = S(f)\n",
        "      f = L(f)\n",
        "      right ^= f\n",
        "      right, left = left, right\n",
        "  keys.append(left)\n",
        "  keys.append(right)\n",
        "\n",
        "  return(keys)"
      ]
    },
    {
      "cell_type": "code",
      "source": [
        "text = 0x1122334455667700ffeeddccbbaa9988\n",
        "Ki= 0x8899aabbccddeeff0011223344556677fedcba98765432100123456789abcdef\n",
        "keys = K(Ki)\n",
        "\n",
        "for i in range(9):\n",
        "  text = L(S(text ^ keys[i]))\n",
        "text ^= keys[9]\n",
        "\n",
        "print(hex(text))\n",
        "\n",
        "for i in range(9):\n",
        "  text = dS(dL(text ^ keys[9-i]))\n",
        "text ^= keys[0]\n",
        "\n",
        "print(hex(text))"
      ],
      "metadata": {
        "colab": {
          "base_uri": "https://localhost:8080/"
        },
        "id": "gWmYE3vBE5ho",
        "outputId": "95869605-8f74-4a92-c455-32715a541259"
      },
      "execution_count": null,
      "outputs": [
        {
          "output_type": "stream",
          "name": "stdout",
          "text": [
            "0x7f679d90bebc24305a468d42b9d4edcd\n",
            "0x1122334455667700ffeeddccbbaa9988\n"
          ]
        }
      ]
    },
    {
      "cell_type": "code",
      "source": [
        "# КОНТРОЛЬНЫЕ ПРИМЕРЫ\n",
        "\n",
        "# ПРЕОБРАЗОВАНИЕ S\n",
        "arr = [\n",
        "    [0xffeeddccbbaa99881122334455667700,  0xb66cd8887d38e8d77765aeea0c9a7efc],\n",
        "    [0xb66cd8887d38e8d77765aeea0c9a7efc,  0x559d8dd7bd06cbfe7e7b262523280d39],\n",
        "    [0x559d8dd7bd06cbfe7e7b262523280d39,  0x0c3322fed531e4630d80ef5c5a81c50b],\n",
        "    [0x0c3322fed531e4630d80ef5c5a81c50b,  0x23ae65633f842d29c5df529c13f5acda]\n",
        "]\n",
        "\n",
        "for i in range(4):\n",
        "  if(S(arr[i][0]) != arr[i][1]):\n",
        "    print('S - ошибка:\\nПолучено: ', S(arr[i][0]), 'Ожидается:', arr[i][1])\n",
        "print('S - верно')"
      ],
      "metadata": {
        "colab": {
          "base_uri": "https://localhost:8080/"
        },
        "id": "L0SScbL_i2Af",
        "outputId": "ca0eeb31-66c2-40e3-eabb-5e4550630ca5"
      },
      "execution_count": null,
      "outputs": [
        {
          "output_type": "stream",
          "name": "stdout",
          "text": [
            "S - верно\n"
          ]
        }
      ]
    },
    {
      "cell_type": "code",
      "source": [
        "# ПРЕОБРАЗОВАНИЕ L\n",
        "arr = [\n",
        "    [0x64a59400000000000000000000000000,  0xd456584dd0e3e84cc3166e4b7fa2890d],\n",
        "    [0xd456584dd0e3e84cc3166e4b7fa2890d,  0x79d26221b87b584cd42fbc4ffea5de9a],\n",
        "    [0x79d26221b87b584cd42fbc4ffea5de9a,  0x0e93691a0cfc60408b7b68f66b513c13],\n",
        "    [0x0e93691a0cfc60408b7b68f66b513c13,  0xe6a8094fee0aa204fd97bcb0b44b8580]\n",
        "]\n",
        "\n",
        "for i in range(4):\n",
        "  if(L(arr[i][0]) != arr[i][1]):\n",
        "    print('L - ошибка:\\nПолучено: ', L(arr[i][0]), 'Ожидается:', arr[i][1])\n",
        "print('L - верно')"
      ],
      "metadata": {
        "colab": {
          "base_uri": "https://localhost:8080/"
        },
        "id": "gtzXNvO3k0c1",
        "outputId": "88300ea6-1977-41b5-e014-6068767c9640"
      },
      "execution_count": null,
      "outputs": [
        {
          "output_type": "stream",
          "name": "stdout",
          "text": [
            "L - верно\n"
          ]
        }
      ]
    },
    {
      "cell_type": "code",
      "source": [
        "# ПРОВЕРКА РАЗВЕРТЫВАНИЯ\n",
        "Ki= 0x8899aabbccddeeff0011223344556677fedcba98765432100123456789abcdef\n",
        "arr = [ 0x8899aabbccddeeff0011223344556677,\n",
        "        0xfedcba98765432100123456789abcdef,\n",
        "        0xdb31485315694343228d6aef8cc78c44,\n",
        "        0x3d4553d8e9cfec6815ebadc40a9ffd04,\n",
        "        0x57646468c44a5e28d3e59246f429f1ac,\n",
        "        0xbd079435165c6432b532e82834da581b,\n",
        "        0x51e640757e8745de705727265a0098b1,\n",
        "        0x5a7925017b9fdd3ed72a91a22286f984,\n",
        "        0xbb44e25378c73123a5f32f73cdb6e517,\n",
        "        0x72e9dd7416bcf45b755dbaa88e4a4043\n",
        "       ]\n",
        "\n",
        "keys = K(Ki)\n",
        "for i in range(10):\n",
        "  if(keys[i] != arr[i]):\n",
        "    print('K - ошибка:\\nПолучено: ', hex(keys[i]), 'Ожидается:', hex(arr[i]))\n",
        "print('K - верно')"
      ],
      "metadata": {
        "colab": {
          "base_uri": "https://localhost:8080/"
        },
        "id": "IGE-DSAG2pC4",
        "outputId": "131e2a5f-a740-44fd-9d3f-a2fb5647d9fe"
      },
      "execution_count": null,
      "outputs": [
        {
          "output_type": "stream",
          "name": "stdout",
          "text": [
            "K - верно\n"
          ]
        }
      ]
    },
    {
      "cell_type": "code",
      "source": [
        "for i in range(4):\n",
        "  print(2*i+1)\n",
        "  print(2*(i+1))"
      ],
      "metadata": {
        "colab": {
          "base_uri": "https://localhost:8080/"
        },
        "id": "iclanBVcNjqH",
        "outputId": "84e017b0-3ece-4ff4-a79c-8f396a6de919"
      },
      "execution_count": null,
      "outputs": [
        {
          "output_type": "stream",
          "name": "stdout",
          "text": [
            "1\n",
            "2\n",
            "3\n",
            "4\n",
            "5\n",
            "6\n",
            "7\n",
            "8\n"
          ]
        }
      ]
    }
  ]
}