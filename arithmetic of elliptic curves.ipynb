{
  "nbformat": 4,
  "nbformat_minor": 0,
  "metadata": {
    "colab": {
      "provenance": [],
      "collapsed_sections": [
        "4rnDka6NzJnl",
        "tnDhx2dkzeG1"
      ],
      "authorship_tag": "ABX9TyOh1NJxI28no4yC8yVsGSG3",
      "include_colab_link": true
    },
    "kernelspec": {
      "name": "python3",
      "display_name": "Python 3"
    },
    "language_info": {
      "name": "python"
    }
  },
  "cells": [
    {
      "cell_type": "markdown",
      "metadata": {
        "id": "view-in-github",
        "colab_type": "text"
      },
      "source": [
        "<a href=\"https://colab.research.google.com/github/MariaMaj59/cryptography/blob/main/arithmetic%20of%20elliptic%20curves.ipynb\" target=\"_parent\"><img src=\"https://colab.research.google.com/assets/colab-badge.svg\" alt=\"Open In Colab\"/></a>"
      ]
    },
    {
      "cell_type": "markdown",
      "source": [
        "# Арифметика на эллиптических кривых"
      ],
      "metadata": {
        "id": "3eYk-_k1yvq9"
      }
    },
    {
      "cell_type": "code",
      "source": [
        "# Вспомогательные\n",
        "\n",
        "# Расширенный алгоритм Евклида\n",
        "def gcdExtended(point, p):\n",
        "  if point == 0 :\n",
        "      return p,0,1\n",
        "  gcd,x1,y1 = gcdExtended(p%point, point)\n",
        "  x = y1 - (p//point) * x1\n",
        "  y = x1\n",
        "  return gcd,x,y\n",
        "\n",
        "def invers(point):\n",
        "  global p\n",
        "  gcd, x, y = gcdExtended(point, p)\n",
        "  if gcd == 1:\n",
        "      return((x % p + p) % p)\n",
        "  else:\n",
        "      print('не найдено обратное')\n",
        "\n",
        "\n",
        "# Модуль, в том числе для отрицательных\n",
        "def mod(a, n = None):\n",
        "  if (n == None):\n",
        "    global p\n",
        "  else:\n",
        "    p = n\n",
        "  if a < 0:\n",
        "    return p - ( -a % p )\n",
        "  else:\n",
        "    return a % p"
      ],
      "metadata": {
        "id": "0Y7_DRgTtLto"
      },
      "execution_count": null,
      "outputs": []
    },
    {
      "cell_type": "code",
      "source": [
        "# Умножение точки на -1\n",
        "def minus(point):\n",
        "  point[1] = mod( -point[1] )\n",
        "  return point\n",
        "\n",
        "# Сложение точек\n",
        "def sum(point1, point2=None):\n",
        "  global p\n",
        "  if point2 == None:\n",
        "    global a\n",
        "    point2 = point1\n",
        "    slope = mod((3 * point1[0]**2 + a) * invers(2 * point1[1]))\n",
        "  else:\n",
        "   slope = mod((point2[1] - point1[1]) * invers(point2[0] - point1[0]))\n",
        "  x = mod(slope**2 - point1[0] - point2[0])\n",
        "  y = mod(slope*(point1[0] - x) - point1[1])\n",
        "  return [x, y]\n",
        "\n",
        "# Умножение точки на число\n",
        "def mul(num, point):\n",
        "  res = sum(point)\n",
        "  n = 2\n",
        "  while(num > n*2):\n",
        "    res = sum(res)\n",
        "    n *= 2\n",
        "  while (num > n):\n",
        "    res = sum(res, point)\n",
        "    n += 1\n",
        "  return res"
      ],
      "metadata": {
        "id": "yUFDDKv0V8rJ"
      },
      "execution_count": null,
      "outputs": []
    },
    {
      "cell_type": "markdown",
      "source": [
        "# Проверки"
      ],
      "metadata": {
        "id": "4rnDka6NzJnl"
      }
    },
    {
      "cell_type": "markdown",
      "source": [
        "Проверки арифметики"
      ],
      "metadata": {
        "id": "IUAeidWczNst"
      }
    },
    {
      "cell_type": "code",
      "source": [
        "# проверки\n",
        "a = 0\n",
        "b = 7\n",
        "p = 11\n",
        "\n",
        "if (minus([2, 2]) == [2, 9]):\n",
        "  print('multminus1 - Верно')\n",
        "if (sum([7, 8]) == [6, 6]):\n",
        "  print('sum(A) - Верно')\n",
        "if (sum([3, 10],[7, 3]) == [2, 2]):\n",
        "  print('sum(A, В) - Верно')\n",
        "if (mul(3, [7, 8]) == [2, 2]):\n",
        "    print('mul - Верно')"
      ],
      "metadata": {
        "colab": {
          "base_uri": "https://localhost:8080/"
        },
        "id": "nZ675WbSeWwb",
        "outputId": "10992086-0b27-423a-f290-dac61a2188c4"
      },
      "execution_count": null,
      "outputs": [
        {
          "output_type": "stream",
          "name": "stdout",
          "text": [
            "multminus1 - Верно\n",
            "sum(A) - Верно\n",
            "sum(A, В) - Верно\n",
            "mul - Верно\n"
          ]
        }
      ]
    },
    {
      "cell_type": "markdown",
      "source": [
        "# Дополнительно"
      ],
      "metadata": {
        "id": "tnDhx2dkzeG1"
      }
    },
    {
      "cell_type": "code",
      "source": [
        "#  Поиск всех точек\n",
        "def allpoints(a, b, q):\n",
        "  points = []\n",
        "  for x in range(p):\n",
        "    for y in range(p):\n",
        "      if(y**2 % p == (x**3 + a * x + b) % p):\n",
        "        points.append([x, y])\n",
        "  return points"
      ],
      "metadata": {
        "id": "heidn_AEzmjO"
      },
      "execution_count": null,
      "outputs": []
    },
    {
      "cell_type": "code",
      "source": [
        "# Проверка поиска точек\n",
        "\n",
        "a = 0\n",
        "b = 7\n",
        "p = 11\n",
        "res = [[2, 2], [2, 9], [3, 1], [3, 10], [4, 4], [4, 7], [5, 0], [6, 5], [6, 6], [7, 3], [7, 8]]\n",
        "if (allpoints(a, b, p) == res):\n",
        "  print('Верно')"
      ],
      "metadata": {
        "colab": {
          "base_uri": "https://localhost:8080/"
        },
        "id": "wu5UwXMVd6om",
        "outputId": "49bf595f-7fd7-46d8-8cb1-43ec0b1d70e7"
      },
      "execution_count": null,
      "outputs": [
        {
          "output_type": "stream",
          "name": "stdout",
          "text": [
            "Верно\n"
          ]
        }
      ]
    },
    {
      "cell_type": "code",
      "source": [
        "a=0\n",
        "b=7\n",
        "p=23\n",
        "res = [[1, 10], [1, 13], [4, 5], [4, 18], [6, 4], [6, 19], [8, 6], [8, 17], [9, 0], [10, 8], [10, 15], [11, 2], [11, 21], [15, 1], [15, 22], [16, 3], [16, 20], [19, 9], [19, 14], [20, 7], [20, 16], [22, 11], [22, 12]]\n",
        "if (allpoints(a, b, p) == res):\n",
        "  print('Верно')"
      ],
      "metadata": {
        "colab": {
          "base_uri": "https://localhost:8080/"
        },
        "id": "oy5VVzAf0o1W",
        "outputId": "69ecfb91-f9ec-4e9b-d5cd-bde21c1b0db9"
      },
      "execution_count": null,
      "outputs": [
        {
          "output_type": "stream",
          "name": "stdout",
          "text": [
            "Верно\n"
          ]
        }
      ]
    }
  ]
}