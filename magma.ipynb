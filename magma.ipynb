{
  "nbformat": 4,
  "nbformat_minor": 0,
  "metadata": {
    "colab": {
      "provenance": [],
      "collapsed_sections": [
        "nPKyrERbykca",
        "gUIvcORn45fN",
        "ipekttlB4YOu"
      ],
      "toc_visible": true,
      "authorship_tag": "ABX9TyMg+dTf1Ll2zyKr28nqlRiI",
      "include_colab_link": true
    },
    "kernelspec": {
      "name": "python3",
      "display_name": "Python 3"
    },
    "language_info": {
      "name": "python"
    }
  },
  "cells": [
    {
      "cell_type": "markdown",
      "metadata": {
        "id": "view-in-github",
        "colab_type": "text"
      },
      "source": [
        "<a href=\"https://colab.research.google.com/github/MariaMaj59/cryptography/blob/main/magma.ipynb\" target=\"_parent\"><img src=\"https://colab.research.google.com/assets/colab-badge.svg\" alt=\"Open In Colab\"/></a>"
      ]
    },
    {
      "cell_type": "markdown",
      "source": [
        "# Магма"
      ],
      "metadata": {
        "id": "Ag-aBPD95gBC"
      }
    },
    {
      "cell_type": "code",
      "source": [
        "# Создание ключа\n",
        "K= 2**(2**8)-1\n",
        "keys = []\n",
        "for i in range(3):\n",
        "    for j in range(8):\n",
        "        keys.append(K // 2**(5*j) % 2**32)\n",
        "for i in range(7, -1, -1):\n",
        "    keys.append(K // 2**(5*i) % 2**32)\n",
        "K= keys"
      ],
      "metadata": {
        "id": "vRyWt0I15mH5"
      },
      "execution_count": 1,
      "outputs": []
    },
    {
      "cell_type": "code",
      "source": [
        "# Таблица перестановки 16*8\n",
        "table = [\n",
        "    [11, 7, 8, 15, 1, 13, 12, 6, 0, 5, 10, 9, 4, 3, 2, 14],\n",
        "    [13, 12, 0, 1, 2, 9, 8, 15, 7, 10, 11, 14, 4, 5, 3, 6],\n",
        "    [7, 5, 13, 6, 10, 14, 0, 1, 9, 2, 15, 8, 3, 4, 12, 11],\n",
        "    [10, 9, 0, 4, 13, 2, 7, 15, 14, 1, 6, 11, 5, 12, 8, 3],\n",
        "    [13, 1, 0, 4, 14, 6, 10, 15, 8, 3, 12, 7, 9, 11, 5, 2],\n",
        "    [9, 4, 14, 2, 7, 13, 1, 8, 5, 15, 0, 11, 12, 6, 10, 3],\n",
        "    [15, 6, 14, 13, 8, 10, 2, 0, 9, 12, 1, 7, 5, 11, 3, 4],\n",
        "    [10, 6, 4, 2, 12, 13, 5, 15, 8, 14, 3, 7, 11, 0, 9, 1]\n",
        "]"
      ],
      "metadata": {
        "id": "k-kJsMYP5pQm"
      },
      "execution_count": 2,
      "outputs": []
    },
    {
      "cell_type": "code",
      "source": [
        "# Шифрование блока 64 бита\n",
        "def magmax64(inp, type):\n",
        "  left = inp // 2**32\n",
        "  right = inp % 2**32\n",
        "\n",
        "  # раунды\n",
        "  for N in range(32):\n",
        "    if type == 'e':\n",
        "      n = N\n",
        "    elif type == 'd':\n",
        "      n = 31-N\n",
        "    left_end = right\n",
        "    rightXORkey = (right + K[N]) % (2**32)\n",
        "    gluing = 0\n",
        "    for j in range(7,-1,-1):\n",
        "      # выделяем нужную 4х-битную часть \n",
        "      bit4 = rightXORkey // 2**(4*j) % (2**4)\n",
        "      # заменяем её с помощью таблицы замены\n",
        "      gluing += (table[7-j][bit4]) << (j*4)\n",
        "    # почти все раунды\n",
        "    if N < 31:\n",
        "      right = ((gluing << 11) % (2**32)+(gluing >> 21)) ^ left\n",
        "      left = left_end\n",
        "    # последний раунд\n",
        "    else:\n",
        "      left = ((gluing << 11) % (2**32)+(gluing >> 21)) ^ left\n",
        "      right = left_end\n",
        "  # Результат\n",
        "  result = (left << 32) + right\n",
        "\n",
        "  return result\n"
      ],
      "metadata": {
        "id": "zAf4WRuU5r-T"
      },
      "execution_count": 3,
      "outputs": []
    },
    {
      "cell_type": "code",
      "source": [
        "# Исполнение программы\n",
        "inp = int(input())\n",
        "if inp > 2**64:\n",
        "  print('Большой блок!')\n",
        "else:\n",
        "  ec = magmax64(inp,'e')\n",
        "  dec = magmax64(ec,'d')\n",
        "  print('Сообщение:', inp)\n",
        "  print('Шифрование:', ec)\n",
        "  print('Расшифрование:', dec)\n"
      ],
      "metadata": {
        "id": "m9YSjxwv5uMT",
        "colab": {
          "base_uri": "https://localhost:8080/"
        },
        "outputId": "cb444f1b-d1f0-4293-f4af-5a2cb7e75dce"
      },
      "execution_count": 4,
      "outputs": [
        {
          "output_type": "stream",
          "name": "stdout",
          "text": [
            "123\n",
            "Сообщение: 123\n",
            "Шифрование: 6342264090132364653\n",
            "Расшифрование: 123\n"
          ]
        }
      ]
    }
  ]
}